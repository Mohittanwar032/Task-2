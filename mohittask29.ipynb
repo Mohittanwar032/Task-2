{
 "cells": [
  {
   "cell_type": "code",
   "execution_count": null,
   "id": "10088dbb",
   "metadata": {
    "vscode": {
     "languageId": "plaintext"
    }
   },
   "outputs": [],
   "source": [
    "# Step 1: Import necessary libraries\n",
    "import pandas as pd\n",
    "import matplotlib.pyplot as plt\n",
    "import seaborn as sns\n",
    "\n",
    "sns.set(style=\"whitegrid\")\n",
    "# Step 2: Load the Titanic dataset\n",
    "df = pd.read_csv(\"titanic.csv\")\n",
    "df.head()\n",
    "# Step 3: Get general info and summary\n",
    "df.info()\n",
    "# Step 4: Summary statistics for numerical columns\n",
    "df.describe()\n",
    "# Step 5: Check for missing values\n",
    "df.isnull().sum()\n",
    "# Step 6: Plot histograms\n",
    "df.hist(figsize=(10, 8))\n",
    "plt.tight_layout()\n",
    "plt.show()\n",
    "# Step 7: Boxplot for Age column\n",
    "plt.figure(figsize=(6, 4))\n",
    "sns.boxplot(data=df, y='Age')\n",
    "plt.title('Boxplot of Age')\n",
    "plt.show()\n",
    "# Step 8: Correlation heatmap\n",
    "plt.figure(figsize=(10, 6))\n",
    "sns.heatmap(df.corr(numeric_only=True), annot=True, cmap='coolwarm')\n",
    "plt.title(\"Correlation Matrix\")\n",
    "plt.show()\n",
    "# Step 9: Pairplot for some selected features\n",
    "sns.pairplot(df[['Age', 'Fare', 'Survived']])\n",
    "plt.show()\n",
    "# Step 10: Survival count plot\n",
    "sns.countplot(data=df, x='Survived')\n",
    "plt.title(\"Survival Count\")\n",
    "plt.show()\n",
    "# Step 11: Survival by Passenger Class\n",
    "sns.barplot(data=df, x='Pclass', y='Survived')\n",
    "plt.title(\"Survival Rate by Class\")\n",
    "plt.show()"
   ]
  }
 ],
 "metadata": {
  "language_info": {
   "name": "python"
  }
 },
 "nbformat": 4,
 "nbformat_minor": 5
}
